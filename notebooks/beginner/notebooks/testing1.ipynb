{
 "cells": [
  {
   "cell_type": "markdown",
   "metadata": {},
   "source": [
    "# Testing with [pytest](https://docs.pytest.org/en/latest/) - part 1"
   ]
  },
  {
   "cell_type": "markdown",
   "metadata": {},
   "source": [
    "## Why to write tests?\n",
    "* Who wants to perform manual testing?\n",
    "* When you fix a bug or add a new feature, tests are a way to verify that you did not break anything on the way\n",
    "* If you have clear requirements, you can have matching test(s) for each requirement\n",
    "* You don't have to be afraid of refactoring\n",
    "* Tests document your implementation - they show other people use cases of your implementation\n",
    "* This list is endless..."
   ]
  },
  {
   "cell_type": "markdown",
   "metadata": {},
   "source": [
    "## [Test-driven development](https://en.wikipedia.org/wiki/Test-driven_development) aka TDD\n",
    "In short, the basic idea of TDD is to write tests before writing the actual implementation. Maybe the most significant benefit of the approach is that the developer focuses on writing tests which match with what the program should do. Whereas if the tests are written after the actual implementation, there is a high risk for rushing tests which just show green light for the already written logic.\n",
    "\n",
    "Tests are first class citizens in modern, agile software development, which is why it's important to start thinking TDD early during your Python learning path. \n",
    "\n",
    "The workflow of TDD can be summarized as follows:\n",
    "1. Add a test case(s) for the change / feature / bug fix you are going to implement\n",
    "2. Run all tests and check that the new one fails\n",
    "3. Implement required changes\n",
    "4. Run tests and verify that all pass\n",
    "5. Refactor"
   ]
  },
  {
   "cell_type": "markdown",
   "metadata": {},
   "source": [
    "### Running pytest inside notebooks\n",
    "These are the steps required to run pytest inside Jupyter cells. You can copy the content of this cell to the top of your notebook which contains tests."
   ]
  },
  {
   "cell_type": "code",
   "execution_count": 2,
   "metadata": {},
   "outputs": [
    {
     "name": "stdout",
     "output_type": "stream",
     "text": [
      "Requirement already satisfied: pytest in /Users/ngrnwood/opt/anaconda3/lib/python3.9/site-packages (6.2.4)\n",
      "Requirement already satisfied: attrs>=19.2.0 in /Users/ngrnwood/opt/anaconda3/lib/python3.9/site-packages (from pytest) (21.2.0)\n",
      "Requirement already satisfied: iniconfig in /Users/ngrnwood/opt/anaconda3/lib/python3.9/site-packages (from pytest) (1.1.1)\n",
      "Requirement already satisfied: packaging in /Users/ngrnwood/opt/anaconda3/lib/python3.9/site-packages (from pytest) (21.0)\n",
      "Requirement already satisfied: pluggy<1.0.0a1,>=0.12 in /Users/ngrnwood/opt/anaconda3/lib/python3.9/site-packages (from pytest) (0.13.1)\n",
      "Requirement already satisfied: py>=1.8.2 in /Users/ngrnwood/opt/anaconda3/lib/python3.9/site-packages (from pytest) (1.10.0)\n",
      "Requirement already satisfied: toml in /Users/ngrnwood/opt/anaconda3/lib/python3.9/site-packages (from pytest) (0.10.2)\n",
      "Requirement already satisfied: pyparsing>=2.0.2 in /Users/ngrnwood/opt/anaconda3/lib/python3.9/site-packages (from packaging->pytest) (3.0.4)\n",
      "Requirement already satisfied: ipytest in /Users/ngrnwood/opt/anaconda3/lib/python3.9/site-packages (0.11.0)\n",
      "Requirement already satisfied: packaging in /Users/ngrnwood/opt/anaconda3/lib/python3.9/site-packages (from ipytest) (21.0)\n",
      "Requirement already satisfied: ipython in /Users/ngrnwood/opt/anaconda3/lib/python3.9/site-packages (from ipytest) (7.29.0)\n",
      "Requirement already satisfied: pytest>=5.4 in /Users/ngrnwood/opt/anaconda3/lib/python3.9/site-packages (from ipytest) (6.2.4)\n",
      "Requirement already satisfied: attrs>=19.2.0 in /Users/ngrnwood/opt/anaconda3/lib/python3.9/site-packages (from pytest>=5.4->ipytest) (21.2.0)\n",
      "Requirement already satisfied: iniconfig in /Users/ngrnwood/opt/anaconda3/lib/python3.9/site-packages (from pytest>=5.4->ipytest) (1.1.1)\n",
      "Requirement already satisfied: pluggy<1.0.0a1,>=0.12 in /Users/ngrnwood/opt/anaconda3/lib/python3.9/site-packages (from pytest>=5.4->ipytest) (0.13.1)\n",
      "Requirement already satisfied: py>=1.8.2 in /Users/ngrnwood/opt/anaconda3/lib/python3.9/site-packages (from pytest>=5.4->ipytest) (1.10.0)\n",
      "Requirement already satisfied: toml in /Users/ngrnwood/opt/anaconda3/lib/python3.9/site-packages (from pytest>=5.4->ipytest) (0.10.2)\n",
      "Requirement already satisfied: backcall in /Users/ngrnwood/opt/anaconda3/lib/python3.9/site-packages (from ipython->ipytest) (0.2.0)\n",
      "Requirement already satisfied: jedi>=0.16 in /Users/ngrnwood/opt/anaconda3/lib/python3.9/site-packages (from ipython->ipytest) (0.18.0)\n",
      "Requirement already satisfied: pexpect>4.3 in /Users/ngrnwood/opt/anaconda3/lib/python3.9/site-packages (from ipython->ipytest) (4.8.0)\n",
      "Requirement already satisfied: traitlets>=4.2 in /Users/ngrnwood/opt/anaconda3/lib/python3.9/site-packages (from ipython->ipytest) (5.1.0)\n",
      "Requirement already satisfied: pickleshare in /Users/ngrnwood/opt/anaconda3/lib/python3.9/site-packages (from ipython->ipytest) (0.7.5)\n",
      "Requirement already satisfied: setuptools>=18.5 in /Users/ngrnwood/opt/anaconda3/lib/python3.9/site-packages (from ipython->ipytest) (58.0.4)\n",
      "Requirement already satisfied: decorator in /Users/ngrnwood/opt/anaconda3/lib/python3.9/site-packages (from ipython->ipytest) (5.1.0)\n",
      "Requirement already satisfied: appnope in /Users/ngrnwood/opt/anaconda3/lib/python3.9/site-packages (from ipython->ipytest) (0.1.2)\n",
      "Requirement already satisfied: pygments in /Users/ngrnwood/opt/anaconda3/lib/python3.9/site-packages (from ipython->ipytest) (2.10.0)\n",
      "Requirement already satisfied: prompt-toolkit!=3.0.0,!=3.0.1,<3.1.0,>=2.0.0 in /Users/ngrnwood/opt/anaconda3/lib/python3.9/site-packages (from ipython->ipytest) (3.0.20)\n",
      "Requirement already satisfied: matplotlib-inline in /Users/ngrnwood/opt/anaconda3/lib/python3.9/site-packages (from ipython->ipytest) (0.1.2)\n",
      "Requirement already satisfied: parso<0.9.0,>=0.8.0 in /Users/ngrnwood/opt/anaconda3/lib/python3.9/site-packages (from jedi>=0.16->ipython->ipytest) (0.8.2)\n",
      "Requirement already satisfied: ptyprocess>=0.5 in /Users/ngrnwood/opt/anaconda3/lib/python3.9/site-packages (from pexpect>4.3->ipython->ipytest) (0.7.0)\n",
      "Requirement already satisfied: wcwidth in /Users/ngrnwood/opt/anaconda3/lib/python3.9/site-packages (from prompt-toolkit!=3.0.0,!=3.0.1,<3.1.0,>=2.0.0->ipython->ipytest) (0.2.5)\n",
      "Requirement already satisfied: pyparsing>=2.0.2 in /Users/ngrnwood/opt/anaconda3/lib/python3.9/site-packages (from packaging->ipytest) (3.0.4)\n"
     ]
    }
   ],
   "source": [
    "# Let's make sure pytest and ipytest packages are installed\n",
    "# ipytest is required for running pytest inside Jupyter notebooks\n",
    "import sys\n",
    "!{sys.executable} -m pip install pytest\n",
    "!{sys.executable} -m pip install ipytest\n",
    "\n",
    "import ipytest\n",
    "import pytest\n",
    "\n",
    "ipytest.autoconfig()\n",
    "\n",
    "# Filename has to be set explicitly for ipytest \n",
    "__file__ = 'testing1.ipynb'"
   ]
  },
  {
   "cell_type": "markdown",
   "metadata": {},
   "source": [
    "## `pytest` test cases\n",
    "Let's consider we have a function called `sum_of_three_numbers` for which we want to write a test."
   ]
  },
  {
   "cell_type": "code",
   "execution_count": 3,
   "metadata": {},
   "outputs": [],
   "source": [
    "# This would be in your e.g. implementation.py\n",
    "def sum_of_three_numbers(num1, num2, num3):\n",
    "    return num1 + num2 + num3"
   ]
  },
  {
   "cell_type": "markdown",
   "metadata": {},
   "source": [
    "Pytest test cases are actually quite similar as you have already seen in the exercises. Most of the exercises are structured like pytest test cases by dividing each exercise into three cells:\n",
    "1. Setup the variables used in the test\n",
    "2. Your implementation\n",
    "3. Verify that your implementation does what is wanted by using assertions\n",
    "\n",
    "See the example test case below to see the similarities between the exercises and common structure of test cases."
   ]
  },
  {
   "cell_type": "code",
   "execution_count": 7,
   "metadata": {},
   "outputs": [
    {
     "name": "stdout",
     "output_type": "stream",
     "text": [
      "\u001b[31mF\u001b[0m\u001b[31m                                                                                            [100%]\u001b[0m\n",
      "============================================= FAILURES =============================================\n",
      "\u001b[31m\u001b[1m____________________________________ test_sum_of_three_numbers _____________________________________\u001b[0m\n",
      "\n",
      "    \u001b[94mdef\u001b[39;49;00m \u001b[92mtest_sum_of_three_numbers\u001b[39;49;00m():\n",
      "        \u001b[90m# 1. Setup the variables used in the test\u001b[39;49;00m\n",
      "        num1 = \u001b[94m2\u001b[39;49;00m\n",
      "        num2 = \u001b[94m3\u001b[39;49;00m\n",
      "        num3 = \u001b[94m5\u001b[39;49;00m\n",
      "    \n",
      "        \u001b[90m# 2. Call the functionality you want to test\u001b[39;49;00m\n",
      "        result = sum_of_three_numbers(num1, num2, num3)\n",
      "    \n",
      "        \u001b[90m# 3. Verify that the outcome is expected\u001b[39;49;00m\n",
      "        \u001b[94massert\u001b[39;49;00m result == \u001b[94m10\u001b[39;49;00m\n",
      ">       \u001b[94massert\u001b[39;49;00m result == \u001b[94m12\u001b[39;49;00m\n",
      "\u001b[1m\u001b[31mE       assert 10 == 12\u001b[0m\n",
      "\n",
      "\u001b[1m\u001b[31m/var/folders/fl/_yxpjlv90cl_8tljtlhjsqzh0000gn/T/ipykernel_57473/3658755763.py\u001b[0m:17: AssertionError\n",
      "===================================== short test summary info ======================================\n",
      "FAILED tmpwo13dj43.py::test_sum_of_three_numbers - assert 10 == 12\n",
      "\u001b[31m\u001b[31m\u001b[1m1 failed\u001b[0m\u001b[31m in 0.01s\u001b[0m\u001b[0m\n"
     ]
    }
   ],
   "source": [
    "%%ipytest\n",
    "# Mention this at the top of cells which contain test(s)\n",
    "# This is only required for running pytest in Jupyter notebooks\n",
    "\n",
    "\n",
    "# This would be in your test_implementation.py\n",
    "def test_sum_of_three_numbers():\n",
    "    # 1. Setup the variables used in the test\n",
    "    num1 = 2\n",
    "    num2 = 3\n",
    "    num3 = 5\n",
    "    \n",
    "    # 2. Call the functionality you want to test\n",
    "    result = sum_of_three_numbers(num1, num2, num3)\n",
    "    \n",
    "    # 3. Verify that the outcome is expected\n",
    "    assert result == 10\n",
    "    assert result == 12"
   ]
  },
  {
   "cell_type": "markdown",
   "metadata": {},
   "source": [
    "Now go ahead and change the line `assert result == 10` such that the assertion fails to see the output of a failed test."
   ]
  }
 ],
 "metadata": {
  "kernelspec": {
   "display_name": "Python 3 (ipykernel)",
   "language": "python",
   "name": "python3"
  },
  "language_info": {
   "codemirror_mode": {
    "name": "ipython",
    "version": 3
   },
   "file_extension": ".py",
   "mimetype": "text/x-python",
   "name": "python",
   "nbconvert_exporter": "python",
   "pygments_lexer": "ipython3",
   "version": "3.9.7"
  }
 },
 "nbformat": 4,
 "nbformat_minor": 2
}
