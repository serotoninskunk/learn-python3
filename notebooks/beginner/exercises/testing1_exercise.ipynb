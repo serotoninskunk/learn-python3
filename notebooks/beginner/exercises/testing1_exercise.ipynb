{
 "cells": [
  {
   "cell_type": "code",
   "execution_count": 2,
   "metadata": {},
   "outputs": [
    {
     "name": "stdout",
     "output_type": "stream",
     "text": [
      "Requirement already satisfied: pytest in /Users/ngrnwood/opt/anaconda3/lib/python3.9/site-packages (6.2.4)\n",
      "Requirement already satisfied: attrs>=19.2.0 in /Users/ngrnwood/opt/anaconda3/lib/python3.9/site-packages (from pytest) (21.2.0)\n",
      "Requirement already satisfied: iniconfig in /Users/ngrnwood/opt/anaconda3/lib/python3.9/site-packages (from pytest) (1.1.1)\n",
      "Requirement already satisfied: packaging in /Users/ngrnwood/opt/anaconda3/lib/python3.9/site-packages (from pytest) (21.0)\n",
      "Requirement already satisfied: pluggy<1.0.0a1,>=0.12 in /Users/ngrnwood/opt/anaconda3/lib/python3.9/site-packages (from pytest) (0.13.1)\n",
      "Requirement already satisfied: py>=1.8.2 in /Users/ngrnwood/opt/anaconda3/lib/python3.9/site-packages (from pytest) (1.10.0)\n",
      "Requirement already satisfied: toml in /Users/ngrnwood/opt/anaconda3/lib/python3.9/site-packages (from pytest) (0.10.2)\n",
      "Requirement already satisfied: pyparsing>=2.0.2 in /Users/ngrnwood/opt/anaconda3/lib/python3.9/site-packages (from packaging->pytest) (3.0.4)\n",
      "Requirement already satisfied: ipytest in /Users/ngrnwood/opt/anaconda3/lib/python3.9/site-packages (0.11.0)\n",
      "Requirement already satisfied: ipython in /Users/ngrnwood/opt/anaconda3/lib/python3.9/site-packages (from ipytest) (7.29.0)\n",
      "Requirement already satisfied: packaging in /Users/ngrnwood/opt/anaconda3/lib/python3.9/site-packages (from ipytest) (21.0)\n",
      "Requirement already satisfied: pytest>=5.4 in /Users/ngrnwood/opt/anaconda3/lib/python3.9/site-packages (from ipytest) (6.2.4)\n",
      "Requirement already satisfied: attrs>=19.2.0 in /Users/ngrnwood/opt/anaconda3/lib/python3.9/site-packages (from pytest>=5.4->ipytest) (21.2.0)\n",
      "Requirement already satisfied: iniconfig in /Users/ngrnwood/opt/anaconda3/lib/python3.9/site-packages (from pytest>=5.4->ipytest) (1.1.1)\n",
      "Requirement already satisfied: pluggy<1.0.0a1,>=0.12 in /Users/ngrnwood/opt/anaconda3/lib/python3.9/site-packages (from pytest>=5.4->ipytest) (0.13.1)\n",
      "Requirement already satisfied: py>=1.8.2 in /Users/ngrnwood/opt/anaconda3/lib/python3.9/site-packages (from pytest>=5.4->ipytest) (1.10.0)\n",
      "Requirement already satisfied: toml in /Users/ngrnwood/opt/anaconda3/lib/python3.9/site-packages (from pytest>=5.4->ipytest) (0.10.2)\n",
      "Requirement already satisfied: traitlets>=4.2 in /Users/ngrnwood/opt/anaconda3/lib/python3.9/site-packages (from ipython->ipytest) (5.1.0)\n",
      "Requirement already satisfied: pexpect>4.3 in /Users/ngrnwood/opt/anaconda3/lib/python3.9/site-packages (from ipython->ipytest) (4.8.0)\n",
      "Requirement already satisfied: pygments in /Users/ngrnwood/opt/anaconda3/lib/python3.9/site-packages (from ipython->ipytest) (2.10.0)\n",
      "Requirement already satisfied: decorator in /Users/ngrnwood/opt/anaconda3/lib/python3.9/site-packages (from ipython->ipytest) (5.1.0)\n",
      "Requirement already satisfied: pickleshare in /Users/ngrnwood/opt/anaconda3/lib/python3.9/site-packages (from ipython->ipytest) (0.7.5)\n",
      "Requirement already satisfied: appnope in /Users/ngrnwood/opt/anaconda3/lib/python3.9/site-packages (from ipython->ipytest) (0.1.2)\n",
      "Requirement already satisfied: setuptools>=18.5 in /Users/ngrnwood/opt/anaconda3/lib/python3.9/site-packages (from ipython->ipytest) (58.0.4)\n",
      "Requirement already satisfied: jedi>=0.16 in /Users/ngrnwood/opt/anaconda3/lib/python3.9/site-packages (from ipython->ipytest) (0.18.0)\n",
      "Requirement already satisfied: prompt-toolkit!=3.0.0,!=3.0.1,<3.1.0,>=2.0.0 in /Users/ngrnwood/opt/anaconda3/lib/python3.9/site-packages (from ipython->ipytest) (3.0.20)\n",
      "Requirement already satisfied: matplotlib-inline in /Users/ngrnwood/opt/anaconda3/lib/python3.9/site-packages (from ipython->ipytest) (0.1.2)\n",
      "Requirement already satisfied: backcall in /Users/ngrnwood/opt/anaconda3/lib/python3.9/site-packages (from ipython->ipytest) (0.2.0)\n",
      "Requirement already satisfied: parso<0.9.0,>=0.8.0 in /Users/ngrnwood/opt/anaconda3/lib/python3.9/site-packages (from jedi>=0.16->ipython->ipytest) (0.8.2)\n",
      "Requirement already satisfied: ptyprocess>=0.5 in /Users/ngrnwood/opt/anaconda3/lib/python3.9/site-packages (from pexpect>4.3->ipython->ipytest) (0.7.0)\n",
      "Requirement already satisfied: wcwidth in /Users/ngrnwood/opt/anaconda3/lib/python3.9/site-packages (from prompt-toolkit!=3.0.0,!=3.0.1,<3.1.0,>=2.0.0->ipython->ipytest) (0.2.5)\n",
      "Requirement already satisfied: pyparsing>=2.0.2 in /Users/ngrnwood/opt/anaconda3/lib/python3.9/site-packages (from packaging->ipytest) (3.0.4)\n"
     ]
    }
   ],
   "source": [
    "# Required boilerplate\n",
    "import sys\n",
    "!{sys.executable} -m pip install pytest\n",
    "!{sys.executable} -m pip install ipytest\n",
    "\n",
    "import ipytest\n",
    "import pytest\n",
    "\n",
    "ipytest.autoconfig()\n",
    "\n",
    "__file__ = 'testing1_exercise.ipynb'"
   ]
  },
  {
   "cell_type": "markdown",
   "metadata": {},
   "source": [
    "# 1. Creating your first test case\n",
    "There is an implementation for `get_divisible_by_five` function in the cell below. Your task is to create a test case for this function to verify that it works correctly.\n"
   ]
  },
  {
   "cell_type": "code",
   "execution_count": 3,
   "metadata": {
    "editable": false
   },
   "outputs": [],
   "source": [
    "def get_divisible_by_five(numbers):\n",
    "    '''Returns a list of numbers which are divisible by five in the list got as an argument'''\n",
    "    result = []\n",
    "    for num in numbers:\n",
    "        if not num % 5:\n",
    "            result.append(num)\n",
    "\n",
    "    return result"
   ]
  },
  {
   "cell_type": "code",
   "execution_count": 11,
   "metadata": {},
   "outputs": [
    {
     "name": "stdout",
     "output_type": "stream",
     "text": [
      "\u001b[32m.\u001b[0m\u001b[32m                                                                                            [100%]\u001b[0m\n",
      "\u001b[32m\u001b[32m\u001b[1m1 passed\u001b[0m\u001b[32m in 0.01s\u001b[0m\u001b[0m\n"
     ]
    }
   ],
   "source": [
    "%%ipytest\n",
    "\n",
    "def test_get_divisible_by_five():\n",
    "    # Your implementation here\n",
    "    return [5, 10, 12, 15, 64]\n",
    "\n",
    "assert get_divisible_by_five(test_get_divisible_by_five()) == [5, 10, 15]"
   ]
  },
  {
   "cell_type": "code",
   "execution_count": null,
   "metadata": {},
   "outputs": [],
   "source": []
  }
 ],
 "metadata": {
  "kernelspec": {
   "display_name": "Python 3 (ipykernel)",
   "language": "python",
   "name": "python3"
  },
  "language_info": {
   "codemirror_mode": {
    "name": "ipython",
    "version": 3
   },
   "file_extension": ".py",
   "mimetype": "text/x-python",
   "name": "python",
   "nbconvert_exporter": "python",
   "pygments_lexer": "ipython3",
   "version": "3.9.7"
  }
 },
 "nbformat": 4,
 "nbformat_minor": 2
}
