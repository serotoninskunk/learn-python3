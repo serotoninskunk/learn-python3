{
 "cells": [
  {
   "cell_type": "markdown",
   "metadata": {},
   "source": [
    "# 1. Populating a dictionary\n",
    "Create a dictionary by using all the given variables."
   ]
  },
  {
   "cell_type": "code",
   "execution_count": 1,
   "metadata": {
    "editable": false
   },
   "outputs": [],
   "source": [
    "first_name = 'John'\n",
    "last_name = 'Doe'\n",
    "favorite_hobby = 'Python'\n",
    "sports_hobby = 'gym'\n",
    "age = 82"
   ]
  },
  {
   "cell_type": "code",
   "execution_count": 14,
   "metadata": {},
   "outputs": [],
   "source": [
    "# Your implementation\n",
    "name = first_name + ' ' + last_name\n",
    "hobbies = [favorite_hobby, sports_hobby]\n",
    "\n",
    "my_dict = {'name': name, 'age': age, 'hobbies': hobbies}"
   ]
  },
  {
   "cell_type": "code",
   "execution_count": 15,
   "metadata": {
    "editable": false
   },
   "outputs": [],
   "source": [
    "assert my_dict == {\n",
    "        'name': 'John Doe',\n",
    "        'age': 82,\n",
    "        'hobbies': ['Python', 'gym']\n",
    "    }"
   ]
  },
  {
   "cell_type": "markdown",
   "metadata": {},
   "source": [
    "# 2. Accessing and merging dictionaries\n",
    "Combine `dict1`, `dict2`, and `dict3` into `my_dict`. In addition, get the value of `special_key` from `my_dict` into a `special_value` variable. Note that original dictionaries should stay untouched and `special_key` should be removed from `my_dict`."
   ]
  },
  {
   "cell_type": "code",
   "execution_count": null,
   "metadata": {
    "editable": false
   },
   "outputs": [],
   "source": [
    "dict1 = dict(key1='This is not that hard', key2='Python is still cool')\n",
    "dict2 = {'key1': 123, 'special_key': 'secret'}\n",
    "# This is also a away to initialize a dict (list of tuples) \n",
    "dict3 = dict([('key2', 456), ('keyX', 'X')])"
   ]
  },
  {
   "cell_type": "code",
   "execution_count": 16,
   "metadata": {},
   "outputs": [
    {
     "ename": "NameError",
     "evalue": "name 'dict1' is not defined",
     "output_type": "error",
     "traceback": [
      "\u001b[0;31m---------------------------------------------------------------------------\u001b[0m",
      "\u001b[0;31mNameError\u001b[0m                                 Traceback (most recent call last)",
      "\u001b[0;32m/var/folders/fl/_yxpjlv90cl_8tljtlhjsqzh0000gn/T/ipykernel_56619/970665818.py\u001b[0m in \u001b[0;36m<module>\u001b[0;34m\u001b[0m\n\u001b[1;32m      1\u001b[0m \u001b[0;31m# 'Your impelementation'\u001b[0m\u001b[0;34m\u001b[0m\u001b[0;34m\u001b[0m\u001b[0m\n\u001b[0;32m----> 2\u001b[0;31m \u001b[0mmy_dict\u001b[0m \u001b[0;34m=\u001b[0m \u001b[0mdict\u001b[0m\u001b[0;34m(\u001b[0m\u001b[0mdict1\u001b[0m\u001b[0;34m)\u001b[0m\u001b[0;34m\u001b[0m\u001b[0;34m\u001b[0m\u001b[0m\n\u001b[0m\u001b[1;32m      3\u001b[0m \u001b[0mmy_dict\u001b[0m\u001b[0;34m.\u001b[0m\u001b[0mupdate\u001b[0m\u001b[0;34m(\u001b[0m\u001b[0mdict2\u001b[0m\u001b[0;34m)\u001b[0m\u001b[0;34m\u001b[0m\u001b[0;34m\u001b[0m\u001b[0m\n\u001b[1;32m      4\u001b[0m \u001b[0mmy_dict\u001b[0m\u001b[0;34m.\u001b[0m\u001b[0mupdate\u001b[0m\u001b[0;34m(\u001b[0m\u001b[0mdict3\u001b[0m\u001b[0;34m)\u001b[0m\u001b[0;34m\u001b[0m\u001b[0;34m\u001b[0m\u001b[0m\n\u001b[1;32m      5\u001b[0m \u001b[0mspecial_value\u001b[0m \u001b[0;34m=\u001b[0m \u001b[0mmy_dict\u001b[0m\u001b[0;34m.\u001b[0m\u001b[0mpop\u001b[0m\u001b[0;34m(\u001b[0m\u001b[0;34m'special_key'\u001b[0m\u001b[0;34m)\u001b[0m\u001b[0;34m\u001b[0m\u001b[0;34m\u001b[0m\u001b[0m\n",
      "\u001b[0;31mNameError\u001b[0m: name 'dict1' is not defined"
     ]
    }
   ],
   "source": [
    "# 'Your impelementation'\n",
    "my_dict = dict(dict1)\n",
    "my_dict.update(dict2)\n",
    "my_dict.update(dict3)\n",
    "special_value = my_dict.pop('special_key')"
   ]
  },
  {
   "cell_type": "code",
   "execution_count": null,
   "metadata": {
    "editable": false
   },
   "outputs": [],
   "source": [
    "assert my_dict == {'key1': 123, 'key2': 456, 'keyX': 'X'}\n",
    "assert special_value == 'secret'\n",
    "\n",
    "# Let's check that the originals are untouched\n",
    "assert dict1 == {\n",
    "        'key1': 'This is not that hard',\n",
    "        'key2': 'Python is still cool'\n",
    "    }\n",
    "assert dict2 == {'key1': 123, 'special_key': 'secret'}\n",
    "assert dict3 == {'key2': 456, 'keyX': 'X'}"
   ]
  }
 ],
 "metadata": {
  "celltoolbar": "Edit Metadata",
  "kernelspec": {
   "display_name": "Python 3 (ipykernel)",
   "language": "python",
   "name": "python3"
  },
  "language_info": {
   "codemirror_mode": {
    "name": "ipython",
    "version": 3
   },
   "file_extension": ".py",
   "mimetype": "text/x-python",
   "name": "python",
   "nbconvert_exporter": "python",
   "pygments_lexer": "ipython3",
   "version": "3.9.7"
  }
 },
 "nbformat": 4,
 "nbformat_minor": 1
}
